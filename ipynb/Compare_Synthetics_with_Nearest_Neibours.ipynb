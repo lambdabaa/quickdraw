{
 "cells": [
  {
   "cell_type": "code",
   "execution_count": 9,
   "metadata": {},
   "outputs": [
    {
     "ename": "ModuleNotFoundError",
     "evalue": "No module named 'Image'",
     "output_type": "error",
     "traceback": [
      "\u001b[0;31m---------------------------------------------------------------------------\u001b[0m",
      "\u001b[0;31mModuleNotFoundError\u001b[0m                       Traceback (most recent call last)",
      "\u001b[0;32m<ipython-input-9-7dc9d741082c>\u001b[0m in \u001b[0;36m<module>\u001b[0;34m\u001b[0m\n\u001b[1;32m     13\u001b[0m \u001b[0;32mimport\u001b[0m \u001b[0mimageio\u001b[0m\u001b[0;34m\u001b[0m\u001b[0m\n\u001b[1;32m     14\u001b[0m \u001b[0;32mfrom\u001b[0m \u001b[0mIPython\u001b[0m \u001b[0;32mimport\u001b[0m \u001b[0mdisplay\u001b[0m\u001b[0;34m\u001b[0m\u001b[0m\n\u001b[0;32m---> 15\u001b[0;31m \u001b[0;32mimport\u001b[0m \u001b[0mImage\u001b[0m\u001b[0;34m\u001b[0m\u001b[0m\n\u001b[0m",
      "\u001b[0;31mModuleNotFoundError\u001b[0m: No module named 'Image'"
     ]
    }
   ],
   "source": [
    "from __future__ import absolute_import, division, print_function\n",
    "\n",
    "# Import TensorFlow >= 1.10 and enable eager execution\n",
    "import tensorflow as tf\n",
    "tf.enable_eager_execution()\n",
    "\n",
    "import os\n",
    "import time\n",
    "import numpy as np\n",
    "import glob\n",
    "import matplotlib.pyplot as plt\n",
    "import PIL\n",
    "import imageio\n",
    "from IPython import display"
   ]
  },
  {
   "cell_type": "code",
   "execution_count": 15,
   "metadata": {},
   "outputs": [],
   "source": [
    "real_data = np.load('bottlecap.npy')\n",
    "\n",
    "real_data = real_data.reshape(real_data.shape[0],28,28,1).astype('float32')\n",
    "real_data = (real_data - 127.5) / 127.5\n",
    "real_data = real_data[:,...]"
   ]
  },
  {
   "cell_type": "code",
   "execution_count": 3,
   "metadata": {},
   "outputs": [],
   "source": [
    "class Generator(tf.keras.Model):\n",
    "  def __init__(self):\n",
    "    super(Generator, self).__init__()\n",
    "    self.fc1 = tf.keras.layers.Dense(7*7*64, use_bias=False)\n",
    "    self.batchnorm1 = tf.keras.layers.BatchNormalization()\n",
    "    \n",
    "    self.conv1 = tf.keras.layers.Conv2DTranspose(64, (5, 5), strides=(1, 1), padding='same', use_bias=False)\n",
    "    self.batchnorm2 = tf.keras.layers.BatchNormalization()\n",
    "    \n",
    "    self.conv2 = tf.keras.layers.Conv2DTranspose(32, (5, 5), strides=(2, 2), padding='same', use_bias=False)\n",
    "    self.batchnorm3 = tf.keras.layers.BatchNormalization()\n",
    "    \n",
    "    self.conv3 = tf.keras.layers.Conv2DTranspose(1, (5, 5), strides=(2, 2), padding='same', use_bias=False)\n",
    "\n",
    "  def call(self, x, training=True):\n",
    "    x = self.fc1(x)\n",
    "    x = self.batchnorm1(x, training=training)\n",
    "    x = tf.nn.relu(x)\n",
    "\n",
    "    x = tf.reshape(x, shape=(-1, 7, 7, 64))\n",
    "\n",
    "    x = self.conv1(x)\n",
    "    x = self.batchnorm2(x, training=training)\n",
    "    x = tf.nn.relu(x)\n",
    "\n",
    "    x = self.conv2(x)\n",
    "    x = self.batchnorm3(x, training=training)\n",
    "    x = tf.nn.relu(x)\n",
    "\n",
    "    x = tf.nn.tanh(self.conv3(x))  \n",
    "    return x\n",
    "\n",
    "class Discriminator(tf.keras.Model):\n",
    "  def __init__(self):\n",
    "    super(Discriminator, self).__init__()\n",
    "    self.conv1 = tf.keras.layers.Conv2D(64, (5, 5), strides=(2, 2), padding='same')\n",
    "    self.conv2 = tf.keras.layers.Conv2D(128, (5, 5), strides=(2, 2), padding='same')\n",
    "    self.dropout = tf.keras.layers.Dropout(0.3)\n",
    "    self.flatten = tf.keras.layers.Flatten()\n",
    "    self.fc1 = tf.keras.layers.Dense(1)\n",
    "\n",
    "  def call(self, x, training=True):\n",
    "    x = tf.nn.leaky_relu(self.conv1(x))\n",
    "    x = self.dropout(x, training=training)\n",
    "    x = tf.nn.leaky_relu(self.conv2(x))\n",
    "    x = self.dropout(x, training=training)\n",
    "    x = self.flatten(x)\n",
    "    x = self.fc1(x)\n",
    "    return x\n",
    "\n",
    "generator = Generator()\n",
    "discriminator = Discriminator()\n",
    "\n",
    "# Defun gives 10 secs/epoch performance boost\n",
    "generator.call = tf.contrib.eager.defun(generator.call)\n",
    "discriminator.call = tf.contrib.eager.defun(discriminator.call)\n",
    "\n",
    "def discriminator_loss(real_output, generated_output):\n",
    "    # [1,1,...,1] with real output since it is true and we want\n",
    "    # our generated examples to look like it\n",
    "    real_loss = tf.losses.sigmoid_cross_entropy(multi_class_labels=tf.ones_like(real_output), logits=real_output)\n",
    "\n",
    "    # [0,0,...,0] with generated images since they are fake\n",
    "    generated_loss = tf.losses.sigmoid_cross_entropy(multi_class_labels=tf.zeros_like(generated_output), logits=generated_output)\n",
    "\n",
    "    total_loss = real_loss + generated_loss\n",
    "\n",
    "    return total_loss\n",
    "\n",
    "def generator_loss(generated_output):\n",
    "    return tf.losses.sigmoid_cross_entropy(tf.ones_like(generated_output), generated_output)\n",
    "\n",
    "discriminator_optimizer = tf.train.AdamOptimizer(1e-4)\n",
    "generator_optimizer = tf.train.AdamOptimizer(1e-4)"
   ]
  },
  {
   "cell_type": "code",
   "execution_count": 4,
   "metadata": {},
   "outputs": [
    {
     "data": {
      "text/plain": [
       "<tensorflow.python.training.checkpointable.util.InitializationOnlyStatus at 0x107412f28>"
      ]
     },
     "execution_count": 4,
     "metadata": {},
     "output_type": "execute_result"
    }
   ],
   "source": [
    "checkpoint_dir = '/Users/taoli/Documents/Columbia_University/W4995_Deep_Learning/Project/FinalReport/W4995_Trained_Models/bottle_cap'\n",
    "checkpoint_prefix = os.path.join(checkpoint_dir, \"ckpt\")\n",
    "checkpoint = tf.train.Checkpoint(generator_optimizer=generator_optimizer,\n",
    "                                 discriminator_optimizer=discriminator_optimizer,\n",
    "                                 generator=generator,\n",
    "                                 discriminator=discriminator)\n",
    "\n",
    "# restoring the latest checkpoint in checkpoint_dir\n",
    "checkpoint.restore(tf.train.latest_checkpoint(checkpoint_dir))"
   ]
  },
  {
   "cell_type": "code",
   "execution_count": 5,
   "metadata": {},
   "outputs": [],
   "source": [
    "noise_dim = 100\n",
    "num_examples_to_generate = 6\n",
    "\n",
    "random_vector_for_generation = tf.random_normal([num_examples_to_generate,\n",
    "                                                 noise_dim])"
   ]
  },
  {
   "cell_type": "code",
   "execution_count": 45,
   "metadata": {},
   "outputs": [],
   "source": [
    "pic1 = PIL.Image.open(\"augmented_bottlecap_000004.jpeg\")\n",
    "pix1 = np.array(pic1)\n",
    "pix1 = (pix1 - 127.5) / 127.5\n",
    "\n",
    "pic2 = PIL.Image.open(\"augmented_bottlecap_000010.jpeg\")\n",
    "pix2 = np.array(pic2)\n",
    "pix2 = (pix2 - 127.5) / 127.5\n",
    "\n",
    "pic3 = PIL.Image.open(\"augmented_bottlecap_000029.jpeg\")\n",
    "pix3 = np.array(pic3)\n",
    "pix3 = (pix3 - 127.5) / 127.5\n",
    "\n",
    "pic4 = PIL.Image.open(\"augmented_bottlecap_000070.jpeg\")\n",
    "pix4 = np.array(pic4)\n",
    "pix4 = (pix4 - 127.5) / 127.5\n",
    "\n",
    "pic5 = PIL.Image.open(\"augmented_bottlecap_000121.jpeg\")\n",
    "pix5 = np.array(pic5)\n",
    "pix5 = (pix5 - 127.5) / 127.5\n",
    "\n",
    "pic6 = PIL.Image.open(\"augmented_bottlecap_000241.jpeg\")\n",
    "pix6 = np.array(pic6)\n",
    "pix6 = (pix6 - 127.5) / 127.5\n",
    "\n",
    "num_realdata = real_data.shape[0]\n",
    "comp1 = real_data[:,:,:,0]-pix1\n",
    "comp2 = real_data[:,:,:,0]-pix2\n",
    "comp3 = real_data[:,:,:,0]-pix3\n",
    "comp4 = real_data[:,:,:,0]-pix4\n",
    "comp5 = real_data[:,:,:,0]-pix5\n",
    "comp6 = real_data[:,:,:,0]-pix6\n",
    "#comp1.shape"
   ]
  },
  {
   "cell_type": "code",
   "execution_count": 46,
   "metadata": {},
   "outputs": [],
   "source": [
    "#print(real_data.shape)\n",
    "norm1 = np.zeros((num_realdata,1))\n",
    "norm2 = np.zeros((num_realdata,1))\n",
    "norm3 = np.zeros((num_realdata,1))\n",
    "norm4 = np.zeros((num_realdata,1))\n",
    "norm5 = np.zeros((num_realdata,1))\n",
    "norm6 = np.zeros((num_realdata,1))\n",
    "#print(test.shape)\n",
    "for i in range(num_realdata):\n",
    "    norm1[i] = np.linalg.norm(comp1[i,...])\n",
    "    norm2[i] = np.linalg.norm(comp2[i,...])\n",
    "    norm3[i] = np.linalg.norm(comp3[i,...])\n",
    "    norm4[i] = np.linalg.norm(comp4[i,...])\n",
    "    norm5[i] = np.linalg.norm(comp5[i,...])\n",
    "    norm6[i] = np.linalg.norm(comp6[i,...])\n",
    "#print(test)\n",
    "ind1 = np.argpartition(norm1[:,0], 5)[:5]\n",
    "ind2 = np.argpartition(norm2[:,0], 5)[:5]\n",
    "ind3 = np.argpartition(norm3[:,0], 5)[:5]\n",
    "ind4 = np.argpartition(norm4[:,0], 5)[:5]\n",
    "ind5 = np.argpartition(norm5[:,0], 5)[:5]\n",
    "ind6 = np.argpartition(norm6[:,0], 5)[:5]\n",
    "#print(ind)\n",
    "#print(ind[0])"
   ]
  },
  {
   "cell_type": "code",
   "execution_count": 6,
   "metadata": {},
   "outputs": [],
   "source": [
    "def generate_and_save_images(model, epoch, test_input):\n",
    "    predictions = model(test_input, training=False)\n",
    "\n",
    "    for i in range(predictions.shape[0]):\n",
    "        plt.subplot(1, 6, i+1)\n",
    "        plt.imshow(predictions[i, :, :, 0] * 127.5 + 127.5, cmap='gray')\n",
    "        plt.axis('off')\n",
    "        \n",
    "    plt.savefig('Synthetics.png'.format(epoch))\n",
    "    plt.show()\n",
    "    \n",
    "    #for i in range(predictions.shape[0]):\n",
    "        #img = PIL.Image.fromarray(np.array(predictions[i, :, :, 0]) * 127.5 + 127.5)\n",
    "        #img = img.convert(\"L\")\n",
    "        #img.save(\"augmented_bottlecap_{:06d}.jpeg\".format(i),\"JPEG\")\n",
    "        #plt.imshow(predictions[i, :, :, 0] * 127.5 + 127.5, cmap='gray')\n",
    "        #plt.savefig('augmented_image_{:06d}.jpeg'.format(i))"
   ]
  },
  {
   "cell_type": "code",
   "execution_count": 51,
   "metadata": {},
   "outputs": [],
   "source": [
    "def generate_and_save_images1(model, epoch, test_input):\n",
    "    predictions = model(test_input, training=False)\n",
    "\n",
    "    plt.subplot(6, 1, 1)\n",
    "    plt.imshow(pix1 * 127.5 + 127.5, cmap='gray')\n",
    "    plt.axis('off')\n",
    "    \n",
    "    plt.subplot(6, 1, 2)\n",
    "    plt.imshow(pix2 * 127.5 + 127.5, cmap='gray')\n",
    "    plt.axis('off')\n",
    "    \n",
    "    plt.subplot(6, 1, 3)\n",
    "    plt.imshow(pix3 * 127.5 + 127.5, cmap='gray')\n",
    "    plt.axis('off')\n",
    "    \n",
    "    plt.subplot(6, 1, 4)\n",
    "    plt.imshow(pix4 * 127.5 + 127.5, cmap='gray')\n",
    "    plt.axis('off')\n",
    "    \n",
    "    plt.subplot(6, 1, 5)\n",
    "    plt.imshow(pix5 * 127.5 + 127.5, cmap='gray')\n",
    "    plt.axis('off')\n",
    "    \n",
    "    plt.subplot(6, 1, 6)\n",
    "    plt.imshow(pix6 * 127.5 + 127.5, cmap='gray')\n",
    "    plt.axis('off')\n",
    "        \n",
    "    plt.savefig('Synthetics.png'.format(epoch))\n",
    "    plt.show()"
   ]
  },
  {
   "cell_type": "code",
   "execution_count": 49,
   "metadata": {},
   "outputs": [],
   "source": [
    "def generate_and_save_images2(model, epoch, test_input):\n",
    "    predictions = model(test_input, training=False)\n",
    "\n",
    "    for i in range(5):\n",
    "        plt.subplot(6, 5, i+1+5*0)\n",
    "        plt.imshow(real_data[ind1[i], :, :, 0] * 127.5 + 127.5, cmap='gray')\n",
    "        plt.axis('off')\n",
    "    \n",
    "    for i in range(5):\n",
    "        plt.subplot(6, 5, i+1+5*1)\n",
    "        plt.imshow(real_data[ind2[i], :, :, 0] * 127.5 + 127.5, cmap='gray')\n",
    "        plt.axis('off')\n",
    "        \n",
    "    for i in range(5):\n",
    "        plt.subplot(6, 5, i+1+5*2)\n",
    "        plt.imshow(real_data[ind3[i], :, :, 0] * 127.5 + 127.5, cmap='gray')\n",
    "        plt.axis('off')\n",
    "        \n",
    "    for i in range(5):\n",
    "        plt.subplot(6, 5, i+1+5*3)\n",
    "        plt.imshow(real_data[ind4[i], :, :, 0] * 127.5 + 127.5, cmap='gray')\n",
    "        plt.axis('off')\n",
    "        \n",
    "    for i in range(5):\n",
    "        plt.subplot(6, 5, i+1+5*4)\n",
    "        plt.imshow(real_data[ind5[i], :, :, 0] * 127.5 + 127.5, cmap='gray')\n",
    "        plt.axis('off')\n",
    "        \n",
    "    for i in range(5):\n",
    "        plt.subplot(6, 5, i+1+5*5)\n",
    "        plt.imshow(real_data[ind6[i], :, :, 0] * 127.5 + 127.5, cmap='gray')\n",
    "        plt.axis('off')\n",
    "        \n",
    "    plt.savefig('Nearest_Neibours.png')\n",
    "    plt.show()"
   ]
  },
  {
   "cell_type": "code",
   "execution_count": 53,
   "metadata": {},
   "outputs": [
    {
     "data": {
      "image/png": "[encoded data removed]",
      "text/plain": [
       "<Figure size 432x288 with 30 Axes>"
      ]
     },
     "metadata": {
      "needs_background": "light"
     },
     "output_type": "display_data"
    }
   ],
   "source": [
    "generate_and_save_images2(generator,0,random_vector_for_generation)"
   ]
  },
  {
   "cell_type": "code",
   "execution_count": null,
   "metadata": {},
   "outputs": [],
   "source": []
  }
 ],
 "metadata": {
  "kernelspec": {
   "display_name": "Python 3",
   "language": "python",
   "name": "python3"
  },
  "language_info": {
   "codemirror_mode": {
    "name": "ipython",
    "version": 3
   },
   "file_extension": ".py",
   "mimetype": "text/x-python",
   "name": "python",
   "nbconvert_exporter": "python",
   "pygments_lexer": "ipython3",
   "version": "3.6.6"
  }
 },
 "nbformat": 4,
 "nbformat_minor": 2
}
